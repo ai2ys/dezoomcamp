{
  "nbformat": 4,
  "nbformat_minor": 0,
  "metadata": {
    "colab": {
      "provenance": [],
      "authorship_tag": "ABX9TyO+oZI24IFe1zamLPXyco6/",
      "include_colab_link": true
    },
    "kernelspec": {
      "name": "python3",
      "display_name": "Python 3"
    },
    "language_info": {
      "name": "python"
    }
  },
  "cells": [
    {
      "cell_type": "markdown",
      "metadata": {
        "id": "view-in-github",
        "colab_type": "text"
      },
      "source": [
        "<a href=\"https://colab.research.google.com/github/ai2ys/dezoomcamp/blob/main/leaderboard_visualization.ipynb\" target=\"_parent\"><img src=\"https://colab.research.google.com/assets/colab-badge.svg\" alt=\"Open In Colab\"/></a>"
      ]
    },
    {
      "cell_type": "markdown",
      "source": [
        "# Leaderboard visualization"
      ],
      "metadata": {
        "id": "RnSWalvWgZSr"
      }
    },
    {
      "cell_type": "markdown",
      "source": [
        "Installation of prerequisites"
      ],
      "metadata": {
        "id": "Wa1YoB3qggZX"
      }
    },
    {
      "cell_type": "code",
      "execution_count": null,
      "metadata": {
        "id": "kQ5U15yRd1GE"
      },
      "outputs": [],
      "source": [
        "!pip install lxml ipywidgets"
      ]
    },
    {
      "cell_type": "markdown",
      "source": [
        "Leaderboard URL (spreadsheet)."
      ],
      "metadata": {
        "id": "Y7fkJsjYgje0"
      }
    },
    {
      "cell_type": "code",
      "source": [
        "# TODO: update URL to leaderboard\n",
        "leaderboard_url = None\n",
        "# testing with leaderboard from 2023 cohort\n",
        "leaderboard_url = \"https://docs.google.com/spreadsheets/d/e/2PACX-1vTbL00GcdQp0bJt9wf1ROltMq7s3qyxl-NYF7Pvk79Jfxgwfn9dNWmPD_yJHTDq_Wzvps8EIr6cOKWm/pubhtml\""
      ],
      "metadata": {
        "id": "qUJlzA3yeVHK"
      },
      "execution_count": null,
      "outputs": []
    },
    {
      "cell_type": "markdown",
      "source": [
        "Functions for visualizing the leaderboard."
      ],
      "metadata": {
        "id": "h-nEp46hgoIe"
      }
    },
    {
      "cell_type": "code",
      "source": [
        "from hashlib import sha1\n",
        "import pandas as pd\n",
        "import numpy as np\n",
        "import ipywidgets as widgets\n",
        "import matplotlib.pyplot as plt\n",
        "from typing import Tuple\n",
        "from IPython.display import display, clear_output\n",
        "\n",
        "def compute_hash(email):\n",
        "    return sha1(email.lower().encode('utf-8')).hexdigest()\n",
        "\n",
        "def read_leaderboard_from_google_spreadsheet(url:str)->pd.DataFrame:\n",
        "    list_df = pd.read_html(url, header=1, index_col=0)\n",
        "    for df in list_df[1:]:\n",
        "        df.drop(index=np.NaN, inplace=True)\n",
        "        df.reset_index(drop=True, inplace=True)\n",
        "    df_leaderboard = list_df[-1]\n",
        "\n",
        "    return df_leaderboard\n",
        "\n",
        "def get_your_score_and_position(\n",
        "        df_leaderboard:pd.DataFrame,\n",
        "        email_hash:str,\n",
        "    )->Tuple[int, int]:\n",
        "    indices = df_leaderboard.email==email_hash\n",
        "    if indices.any():\n",
        "        position = df_leaderboard.loc[indices].total.index.to_list()[0]\n",
        "        total_score = df_leaderboard.loc[indices].total.values[0]\n",
        "        found = True\n",
        "    else:\n",
        "        print('Your email is not found in the leaderboard')\n",
        "        found = False\n",
        "        position = np.nan\n",
        "        total_score = np.nan\n",
        "    return found, position, total_score\n",
        "\n",
        "def plot_leaderboard_histogram(\n",
        "        df_leaderboard:pd.DataFrame,\n",
        "        ax:plt.Axes=None,\n",
        "        your_score:int=np.nan,\n",
        "        your_position:int=np.nan,\n",
        "        marker='o',\n",
        "        color='orange',\n",
        "        ):\n",
        "    ax = df_leaderboard.total.hist(bins=200, ax=ax, cumulative=True, alpha=.7)\n",
        "    ax.grid(False)\n",
        "\n",
        "    n = len(df_leaderboard)\n",
        "    ax.hlines(n-100, xmin=0, xmax=df_leaderboard.total.max(), color='black', linestyles=':', label='top 100')\n",
        "\n",
        "    if your_score != np.nan:\n",
        "        ax.scatter(\n",
        "            x=your_score,\n",
        "            y=n-your_position,\n",
        "            color=color,\n",
        "            marker=marker,\n",
        "            label='your position'\n",
        "        )\n",
        "    ax.set_xlabel('total scores')\n",
        "    ax.set_title('Check your placement for total scores')\n",
        "    ax.grid(False)\n",
        "    ax.legend()\n",
        "    return ax"
      ],
      "metadata": {
        "id": "1ynfk3xxd8iJ"
      },
      "execution_count": null,
      "outputs": []
    },
    {
      "cell_type": "markdown",
      "source": [
        "Widgets for inputs and outputs"
      ],
      "metadata": {
        "id": "QcuY_ZnsgwJ5"
      }
    },
    {
      "cell_type": "code",
      "source": [
        "df_leaderboard = read_leaderboard_from_google_spreadsheet(leaderboard_url)\n",
        "total_score = np.nan\n",
        "position = np.nan\n",
        "solved_tasks = df_leaderboard.loc[:, 'email':'total'].columns[1:-1].to_list()\n",
        "email_hash = \"\"\n",
        "text_email = widgets.Text(\n",
        "    placeholder='your email address',\n",
        "    disabled=False,\n",
        ")\n",
        "text_hash = widgets.Text(\n",
        "    placeholder='calculated hash',\n",
        "    disabled=True,\n",
        ")\n",
        "text_info = widgets.Textarea(\n",
        "    placeholder='infos about your placement and total score',\n",
        "    layout = widgets.Layout(width='800px', height='100px'),\n",
        "    disabled=True,\n",
        ")\n",
        "\n",
        "def on_button_clicked(b):\n",
        "    global email_hash, total_score, position\n",
        "    email_hash = compute_hash(text_email.value)\n",
        "    text_hash.placeholder = email_hash\n",
        "    found, position, total_score = get_your_score_and_position(\n",
        "        df_leaderboard,\n",
        "        email_hash)\n",
        "    if not found:\n",
        "        text_info.value = f\"Unable to find your email hash in the leaderboard:\\nemail:\\t'{text_email.value}'\\nhash:\\t'{email_hash}'\"\n",
        "    else:\n",
        "        text_info.value = f\"email:\\t'{text_email.value}'\\nhash:\\t'{email_hash}'\\nposition:\\t{position} (zero-based index)\\ntotal score:\\t{total_score}\\n\\nsolved tasks:\\t{solved_tasks}\"\n",
        "\n",
        "submit_button=widgets.Button(description='>> calculate hash >>',button_style='success')\n",
        "\n",
        "submit_button.on_click(on_button_clicked)\n",
        "hbox_hash_calc = widgets.HBox([text_email,submit_button, text_hash])\n",
        "all_widgets = widgets.VBox([hbox_hash_calc, text_info])\n",
        "display(all_widgets)"
      ],
      "metadata": {
        "id": "MRXIYyblemMk"
      },
      "execution_count": null,
      "outputs": []
    },
    {
      "cell_type": "markdown",
      "source": [
        "Plotting the leaderboard"
      ],
      "metadata": {
        "id": "gn7n0anNgzpe"
      }
    },
    {
      "cell_type": "code",
      "source": [
        "ax = plot_leaderboard_histogram(\n",
        "        df_leaderboard,\n",
        "        your_score=total_score,\n",
        "        your_position=position)\n",
        "plt.show()"
      ],
      "metadata": {
        "id": "Y8UbLxr4foDz"
      },
      "execution_count": null,
      "outputs": []
    },
    {
      "cell_type": "code",
      "source": [],
      "metadata": {
        "id": "QEh2DK1hf7NP"
      },
      "execution_count": null,
      "outputs": []
    }
  ]
}